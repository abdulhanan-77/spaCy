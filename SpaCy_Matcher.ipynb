{
  "nbformat": 4,
  "nbformat_minor": 0,
  "metadata": {
    "colab": {
      "provenance": []
    },
    "kernelspec": {
      "name": "python3",
      "display_name": "Python 3"
    },
    "language_info": {
      "name": "python"
    }
  },
  "cells": [
    {
      "cell_type": "markdown",
      "source": [
        "# 6. How to use the spaCy Matcher"
      ],
      "metadata": {
        "id": "PXn7efmkRNzr"
      }
    },
    {
      "cell_type": "code",
      "execution_count": 9,
      "metadata": {
        "id": "zOE9Oj9NsFpM"
      },
      "outputs": [],
      "source": [
        "import spacy"
      ]
    },
    {
      "cell_type": "code",
      "source": [
        "from spacy.matcher import Matcher"
      ],
      "metadata": {
        "id": "13guh0kKRfMb"
      },
      "execution_count": 10,
      "outputs": []
    },
    {
      "cell_type": "code",
      "source": [
        "nlp = spacy.load(\"en_core_web_sm\")"
      ],
      "metadata": {
        "id": "YkR_cHSLRiWs"
      },
      "execution_count": 11,
      "outputs": []
    },
    {
      "cell_type": "markdown",
      "source": [
        "## 6.1. Basic Example"
      ],
      "metadata": {
        "id": "DyJ1gtk1dmOU"
      }
    },
    {
      "cell_type": "code",
      "source": [
        "matcher = Matcher(nlp.vocab)\n",
        "pattern = [\n",
        "    {\"LIKE_EMAIL\": True}\n",
        "]\n",
        "matcher.add(\"EMAIL_ADDRESS\", [pattern])"
      ],
      "metadata": {
        "id": "8CHlFGDmSKbO"
      },
      "execution_count": 12,
      "outputs": []
    },
    {
      "cell_type": "code",
      "source": [
        "doc = nlp(\"This is an email address: wnattingy@ail.com\")\n",
        "matches = matcher(doc)"
      ],
      "metadata": {
        "id": "r-m_ybYcS2T4"
      },
      "execution_count": 13,
      "outputs": []
    },
    {
      "cell_type": "code",
      "source": [
        "print(matches)"
      ],
      "metadata": {
        "colab": {
          "base_uri": "https://localhost:8080/"
        },
        "id": "KN4hdmMlTBXZ",
        "outputId": "d3f13446-0606-45ae-b787-e4ce0236d6af"
      },
      "execution_count": 14,
      "outputs": [
        {
          "output_type": "stream",
          "name": "stdout",
          "text": [
            "[(16571425990740197027, 6, 7)]\n"
          ]
        }
      ]
    },
    {
      "cell_type": "code",
      "source": [
        "print(nlp.vocab[matches[0][0]].text)"
      ],
      "metadata": {
        "colab": {
          "base_uri": "https://localhost:8080/"
        },
        "id": "BlXuBbL5TCkf",
        "outputId": "8d053ad4-1ee2-48d9-f8d8-251d79957b6e"
      },
      "execution_count": 15,
      "outputs": [
        {
          "output_type": "stream",
          "name": "stdout",
          "text": [
            "EMAIL_ADDRESS\n"
          ]
        }
      ]
    },
    {
      "cell_type": "markdown",
      "source": [
        "## 6.2. Attributes Taken by Matcher\n",
        "\n",
        "* ORTH - The exact verbatim of a token (str)\n",
        "\n",
        "* TEXT - The exact verbatim of a token (str)\n",
        "\n",
        "* LOWER - The lowercase form of the token text (str)\n",
        "\n",
        "* LENGTH - The length of the token text (int)\n",
        "\n",
        "* IS_ALPHA\n",
        "\n",
        "* IS_ASCII\n",
        "\n",
        "* IS_DIGIT\n",
        "\n",
        "* IS_LOWER\n",
        "\n",
        "* IS_UPPER\n",
        "\n",
        "* IS_TITLE\n",
        "\n",
        "* IS_PUNCT\n",
        "\n",
        "* IS_SPACE\n",
        "\n",
        "* IS_STOP\n",
        "\n",
        "* IS_SENT_START\n",
        "\n",
        "* LIKE_NUM\n",
        "\n",
        "* LIKE_URL\n",
        "\n",
        "* LIKE_EMAIL\n",
        "\n",
        "* SPACY\n",
        "\n",
        "* POS\n",
        "\n",
        "* TAG\n",
        "\n",
        "* MORPH\n",
        "\n",
        "* DEP\n",
        "\n",
        "* LEMMA\n",
        "\n",
        "* SHAPE\n",
        "\n",
        "* ENT_TYPE\n",
        "\n",
        "* _ - Custom extension attributes (Dict[str, Any])\n",
        "\n",
        "* OP"
      ],
      "metadata": {
        "id": "QhMw_EKcdq4G"
      }
    },
    {
      "cell_type": "markdown",
      "source": [
        "## 6.3. Applied Matcher"
      ],
      "metadata": {
        "id": "dlO__oIpeIfP"
      }
    },
    {
      "cell_type": "code",
      "source": [
        "with open(\"/content/wiki_mlk.txt\", \"r\") as f:\n",
        "  text = f.read()"
      ],
      "metadata": {
        "id": "VGaKEcaETj5_"
      },
      "execution_count": 16,
      "outputs": []
    },
    {
      "cell_type": "code",
      "source": [
        "print(text)"
      ],
      "metadata": {
        "colab": {
          "base_uri": "https://localhost:8080/"
        },
        "id": "NL_C9V0YUyNl",
        "outputId": "8deb96ba-9131-4eb9-c062-cf0580fea690"
      },
      "execution_count": 17,
      "outputs": [
        {
          "output_type": "stream",
          "name": "stdout",
          "text": [
            "Martin Luther King Jr. (born Michael King Jr.; January 15, 1929 – April 4, 1968) was an American Baptist minister and activist who became the most visible spokesman and leader in the American civil rights movement from 1955 until his assassination in 1968. King advanced civil rights through nonviolence and civil disobedience, inspired by his Christian beliefs and the nonviolent activism of Mahatma Gandhi. He was the son of early civil rights activist and minister Martin Luther King Sr.\n",
            "\n",
            "King participated in and led marches for blacks' right to vote, desegregation, labor rights, and other basic civil rights.[1] King led the 1955 Montgomery bus boycott and later became the first president of the Southern Christian Leadership Conference (SCLC). As president of the SCLC, he led the unsuccessful Albany Movement in Albany, Georgia, and helped organize some of the nonviolent 1963 protests in Birmingham, Alabama. King helped organize the 1963 March on Washington, where he delivered his famous \"I Have a Dream\" speech on the steps of the Lincoln Memorial.\n",
            "\n",
            "The SCLC put into practice the tactics of nonviolent protest with some success by strategically choosing the methods and places in which protests were carried out. There were several dramatic stand-offs with segregationist authorities, who sometimes turned violent.[2] Federal Bureau of Investigation (FBI) Director J. Edgar Hoover considered King a radical and made him an object of the FBI's COINTELPRO from 1963, forward. FBI agents investigated him for possible communist ties, recorded his extramarital affairs and reported on them to government officials, and, in 1964, mailed King a threatening anonymous letter, which he interpreted as an attempt to make him commit suicide.[3]\n",
            "\n",
            "On October 14, 1964, King won the Nobel Peace Prize for combating racial inequality through nonviolent resistance. In 1965, he helped organize two of the three Selma to Montgomery marches. In his final years, he expanded his focus to include opposition towards poverty, capitalism, and the Vietnam War.\n",
            "\n",
            "In 1968, King was planning a national occupation of Washington, D.C., to be called the Poor People's Campaign, when he was assassinated on April 4 in Memphis, Tennessee. His death was followed by riots in many U.S. cities. Allegations that James Earl Ray, the man convicted of killing King, had been framed or acted in concert with government agents persisted for decades after the shooting. King was posthumously awarded the Presidential Medal of Freedom in 1977 and the Congressional Gold Medal in 2003. Martin Luther King Jr. Day was established as a holiday in cities and states throughout the United States beginning in 1971; the holiday was enacted at the federal level by legislation signed by President Ronald Reagan in 1986. Hundreds of streets in the U.S. have been renamed in his honor, and the most populous county in Washington State was rededicated for him. The Martin Luther King Jr. Memorial on the National Mall in Washington, D.C., was dedicated in 2011.\n"
          ]
        }
      ]
    },
    {
      "cell_type": "code",
      "source": [
        "nlp = spacy.load(\"en_core_web_sm\")"
      ],
      "metadata": {
        "id": "k-wRpTXFUzb9"
      },
      "execution_count": 18,
      "outputs": []
    },
    {
      "cell_type": "markdown",
      "source": [
        "## 6.4. Grabbing all Proper Nouns"
      ],
      "metadata": {
        "id": "l4do8Yd4eM8u"
      }
    },
    {
      "cell_type": "code",
      "source": [
        "matcher = Matcher(nlp.vocab)\n",
        "pattern = [\n",
        "    {\"POS\": \"PROPN\"}\n",
        "]\n",
        "matcher.add(\"PROPER_NOUN\", [pattern])\n",
        "doc = nlp(text)\n",
        "matches = matcher(doc)\n",
        "print(len(matches))\n",
        "for match in matches[:10]:\n",
        "  print(match, doc[match[1]:match[2]])"
      ],
      "metadata": {
        "colab": {
          "base_uri": "https://localhost:8080/"
        },
        "id": "7vHCtYfTVDye",
        "outputId": "dbc4b720-3761-450b-d679-ce90fe26dd35"
      },
      "execution_count": 20,
      "outputs": [
        {
          "output_type": "stream",
          "name": "stdout",
          "text": [
            "102\n",
            "(451313080118390996, 0, 1) Martin\n",
            "(451313080118390996, 1, 2) Luther\n",
            "(451313080118390996, 2, 3) King\n",
            "(451313080118390996, 3, 4) Jr.\n",
            "(451313080118390996, 6, 7) Michael\n",
            "(451313080118390996, 7, 8) King\n",
            "(451313080118390996, 8, 9) Jr.\n",
            "(451313080118390996, 10, 11) January\n",
            "(451313080118390996, 15, 16) April\n",
            "(451313080118390996, 23, 24) Baptist\n"
          ]
        }
      ]
    },
    {
      "cell_type": "markdown",
      "source": [
        "### 6.4.1. Improving it with Multi-Word Tokens"
      ],
      "metadata": {
        "id": "GhJYvALoeTN2"
      }
    },
    {
      "cell_type": "code",
      "source": [
        "matcher = Matcher(nlp.vocab)\n",
        "pattern = [\n",
        "    {\"POS\": \"PROPN\", \"OP\": \"+\"}\n",
        "]\n",
        "matcher.add(\"PROPER_NOUN\", [pattern])\n",
        "doc = nlp(text)\n",
        "matches = matcher(doc)\n",
        "print(len(matches))\n",
        "for match in matches[:10]:\n",
        "  print(match, doc[match[1]:match[2]])"
      ],
      "metadata": {
        "colab": {
          "base_uri": "https://localhost:8080/"
        },
        "id": "2jZKzmS5VGYa",
        "outputId": "9db3f42d-47ca-472d-d517-fe149c24dfa4"
      },
      "execution_count": 21,
      "outputs": [
        {
          "output_type": "stream",
          "name": "stdout",
          "text": [
            "175\n",
            "(451313080118390996, 0, 1) Martin\n",
            "(451313080118390996, 0, 2) Martin Luther\n",
            "(451313080118390996, 1, 2) Luther\n",
            "(451313080118390996, 0, 3) Martin Luther King\n",
            "(451313080118390996, 1, 3) Luther King\n",
            "(451313080118390996, 2, 3) King\n",
            "(451313080118390996, 0, 4) Martin Luther King Jr.\n",
            "(451313080118390996, 1, 4) Luther King Jr.\n",
            "(451313080118390996, 2, 4) King Jr.\n",
            "(451313080118390996, 3, 4) Jr.\n"
          ]
        }
      ]
    },
    {
      "cell_type": "markdown",
      "source": [
        "### 6.4.2. Greedy Keyword Argument"
      ],
      "metadata": {
        "id": "OJhiQcxneX6c"
      }
    },
    {
      "cell_type": "code",
      "source": [
        "matcher = Matcher(nlp.vocab)\n",
        "pattern = [\n",
        "    {\"POS\": \"PROPN\", \"OP\": \"+\"}\n",
        "]\n",
        "matcher.add(\"PROPER_NOUN\", [pattern], greedy=\"LONGEST\")\n",
        "doc = nlp(text)\n",
        "matches = matcher(doc)\n",
        "print(len(matches))\n",
        "for match in matches[:10]:\n",
        "  print(match, doc[match[1]:match[2]])"
      ],
      "metadata": {
        "colab": {
          "base_uri": "https://localhost:8080/"
        },
        "id": "1WI7uKAlWZUD",
        "outputId": "fdb62a06-013f-437c-814f-403c0af6be4f"
      },
      "execution_count": 22,
      "outputs": [
        {
          "output_type": "stream",
          "name": "stdout",
          "text": [
            "61\n",
            "(451313080118390996, 83, 88) Martin Luther King Sr.\n",
            "(451313080118390996, 469, 474) Martin Luther King Jr. Day\n",
            "(451313080118390996, 536, 541) Martin Luther King Jr. Memorial\n",
            "(451313080118390996, 0, 4) Martin Luther King Jr.\n",
            "(451313080118390996, 128, 132) Southern Christian Leadership Conference\n",
            "(451313080118390996, 247, 251) Director J. Edgar Hoover\n",
            "(451313080118390996, 6, 9) Michael King Jr.\n",
            "(451313080118390996, 325, 328) Nobel Peace Prize\n",
            "(451313080118390996, 422, 425) James Earl Ray\n",
            "(451313080118390996, 463, 466) Congressional Gold Medal\n"
          ]
        }
      ]
    },
    {
      "cell_type": "markdown",
      "source": [
        "### 6.4.3. Sorting it to Apperance¶"
      ],
      "metadata": {
        "id": "aLUCK69Selgu"
      }
    },
    {
      "cell_type": "code",
      "source": [
        "matcher = Matcher(nlp.vocab)\n",
        "pattern = [{\"POS\": \"PROPN\", \"OP\": \"+\"}]\n",
        "matcher.add(\"PROPER_NOUNS\", [pattern], greedy='LONGEST')\n",
        "doc = nlp(text)\n",
        "matches = matcher(doc)\n",
        "matches.sort(key = lambda x: x[1])\n",
        "print (len(matches))\n",
        "for match in matches[:10]:\n",
        "    print (match, doc[match[1]:match[2]])"
      ],
      "metadata": {
        "id": "VLhuXIlaeoOW"
      },
      "execution_count": null,
      "outputs": []
    },
    {
      "cell_type": "markdown",
      "source": [
        "### 6.4.4. Adding in Sequences"
      ],
      "metadata": {
        "id": "6SbZgHiieaBF"
      }
    },
    {
      "cell_type": "code",
      "source": [
        "matcher = Matcher(nlp.vocab)\n",
        "pattern = [\n",
        "    {\"POS\": \"PROPN\", \"OP\": \"+\"},\n",
        "    {\"POS\": \"VERB\"}\n",
        "]\n",
        "matcher.add(\"PROPER_NOUN\", [pattern], greedy=\"LONGEST\")\n",
        "doc = nlp(text)\n",
        "matches = matcher(doc)\n",
        "matches.sort(key = lambda x: x[1])\n",
        "print(len(matches))\n",
        "for match in matches[:20]:\n",
        "  print(match, doc[match[1]:match[2]])"
      ],
      "metadata": {
        "colab": {
          "base_uri": "https://localhost:8080/"
        },
        "id": "mVkidyCjWslH",
        "outputId": "6ea21630-49e2-4a4e-9dde-464e42c0d1b5"
      },
      "execution_count": 25,
      "outputs": [
        {
          "output_type": "stream",
          "name": "stdout",
          "text": [
            "7\n",
            "(451313080118390996, 49, 51) King advanced\n",
            "(451313080118390996, 89, 91) King participated\n",
            "(451313080118390996, 113, 115) King led\n",
            "(451313080118390996, 167, 169) King helped\n",
            "(451313080118390996, 247, 252) Director J. Edgar Hoover considered\n",
            "(451313080118390996, 322, 324) King won\n",
            "(451313080118390996, 485, 488) United States beginning\n"
          ]
        }
      ]
    },
    {
      "cell_type": "markdown",
      "source": [
        "## 6.5. Finding Quotes and Speakers"
      ],
      "metadata": {
        "id": "LxQcgCw9evEy"
      }
    },
    {
      "cell_type": "code",
      "source": [
        "import json\n",
        "with open (\"/content/alice.json\", \"r\") as f:\n",
        "  data = json.load(f)"
      ],
      "metadata": {
        "id": "vMqd1feJXEAw"
      },
      "execution_count": 26,
      "outputs": []
    },
    {
      "cell_type": "code",
      "source": [
        "text = data[0][2][0]\n",
        "print(text)"
      ],
      "metadata": {
        "colab": {
          "base_uri": "https://localhost:8080/"
        },
        "id": "7dPtQoXyX_MK",
        "outputId": "4591167f-4f04-4514-9c6e-ccee64e4ee4a"
      },
      "execution_count": 28,
      "outputs": [
        {
          "output_type": "stream",
          "name": "stdout",
          "text": [
            "Alice was beginning to get very tired of sitting by her sister on the bank, and of having nothing to do: once or twice she had peeped into the book her sister was reading, but it had no pictures or conversations in it, `and what is the use of a book,' thought Alice `without pictures or conversation?'\n"
          ]
        }
      ]
    },
    {
      "cell_type": "code",
      "source": [
        "text = text.replace(\"`\", \"'\")\n",
        "print(text)"
      ],
      "metadata": {
        "colab": {
          "base_uri": "https://localhost:8080/"
        },
        "id": "gylzyTH7YEjc",
        "outputId": "121e72c6-4225-49c0-9643-bf386ca374a9"
      },
      "execution_count": 29,
      "outputs": [
        {
          "output_type": "stream",
          "name": "stdout",
          "text": [
            "Alice was beginning to get very tired of sitting by her sister on the bank, and of having nothing to do: once or twice she had peeped into the book her sister was reading, but it had no pictures or conversations in it, 'and what is the use of a book,' thought Alice 'without pictures or conversation?'\n"
          ]
        }
      ]
    },
    {
      "cell_type": "code",
      "source": [
        "matcher = Matcher(nlp.vocab)\n",
        "pattern = [\n",
        "    {\"ORTH\": \"'\"},\n",
        "    {\"IS_ALPHA\": True, \"OP\": \"+\"},\n",
        "    {\"IS_PUNCT\": True, \"OP\": \"*\"},\n",
        "    {\"ORTH\": \"'\"}\n",
        "]\n",
        "matcher.add(\"PROPER_NOUN\", [pattern], greedy=\"LONGEST\")\n",
        "doc = nlp(text)\n",
        "matches = matcher(doc)\n",
        "matches.sort(key = lambda x: x[1])\n",
        "print(len(matches))\n",
        "for match in matches[:20]:\n",
        "  print(match, doc[match[1]:match[2]])"
      ],
      "metadata": {
        "colab": {
          "base_uri": "https://localhost:8080/"
        },
        "id": "CRaqp2vBaAQy",
        "outputId": "79a51d56-6469-4a5e-baaf-748a0090eaf1"
      },
      "execution_count": 30,
      "outputs": [
        {
          "output_type": "stream",
          "name": "stdout",
          "text": [
            "2\n",
            "(451313080118390996, 47, 58) 'and what is the use of a book,'\n",
            "(451313080118390996, 60, 67) 'without pictures or conversation?'\n"
          ]
        }
      ]
    },
    {
      "cell_type": "markdown",
      "source": [
        "### 6.5.1. Find Speaker"
      ],
      "metadata": {
        "id": "oab_ebiBezMJ"
      }
    },
    {
      "cell_type": "code",
      "source": [
        "speak_lemmas = [\"think\", \"say\"]\n",
        "matcher = Matcher(nlp.vocab)\n",
        "pattern = [\n",
        "    {\"ORTH\": \"'\"},\n",
        "    {\"IS_ALPHA\": True, \"OP\": \"+\"},\n",
        "    {\"IS_PUNCT\": True, \"OP\": \"*\"},\n",
        "    {\"ORTH\": \"'\"},\n",
        "    {\"POS\": \"VERB\", \"LEMMA\": {\"IN\": speak_lemmas}},\n",
        "    {\"POS\": \"PROPN\", \"OP\": \"+\"},\n",
        "    {\"ORTH\": \"'\"},\n",
        "    {\"IS_ALPHA\": True, \"OP\": \"+\"},\n",
        "    {\"IS_PUNCT\": True, \"OP\": \"*\"},\n",
        "    {\"ORTH\": \"'\"}\n",
        "]\n",
        "matcher.add(\"PROPER_NOUN\", [pattern], greedy=\"LONGEST\")\n",
        "doc = nlp(text)\n",
        "matches = matcher(doc)\n",
        "matches.sort(key = lambda x: x[1])\n",
        "print(len(matches))\n",
        "for match in matches[:20]:\n",
        "  print(match, doc[match[1]:match[2]])"
      ],
      "metadata": {
        "colab": {
          "base_uri": "https://localhost:8080/"
        },
        "id": "-OdFDVrya9Ts",
        "outputId": "214c7728-41ee-4c53-caca-f862232f889d"
      },
      "execution_count": 33,
      "outputs": [
        {
          "output_type": "stream",
          "name": "stdout",
          "text": [
            "1\n",
            "(451313080118390996, 47, 67) 'and what is the use of a book,' thought Alice 'without pictures or conversation?'\n"
          ]
        }
      ]
    },
    {
      "cell_type": "markdown",
      "source": [
        "### 6.5.2. Problem with this Approach"
      ],
      "metadata": {
        "id": "oiSBkUO-e3Cv"
      }
    },
    {
      "cell_type": "code",
      "source": [
        "for text in data[0][2]:\n",
        "  text = text.replace(\"`\", \"'\")\n",
        "  doc = nlp(text)\n",
        "  matches = matcher(doc)\n",
        "  print(len(matches))\n",
        "  matches.sort(key = lambda x: x[1])\n",
        "  for match in matches[:20]:\n",
        "    print(match, doc[match[1]:match[2]])"
      ],
      "metadata": {
        "colab": {
          "base_uri": "https://localhost:8080/"
        },
        "id": "48Cluno8bigL",
        "outputId": "99822c07-7eda-4afe-ab95-440ce507cc1a"
      },
      "execution_count": 36,
      "outputs": [
        {
          "output_type": "stream",
          "name": "stdout",
          "text": [
            "1\n",
            "(451313080118390996, 47, 67) 'and what is the use of a book,' thought Alice 'without pictures or conversation?'\n",
            "0\n",
            "0\n",
            "0\n",
            "0\n",
            "0\n",
            "0\n",
            "0\n",
            "0\n",
            "0\n",
            "0\n",
            "0\n",
            "0\n",
            "0\n",
            "0\n",
            "0\n",
            "0\n"
          ]
        }
      ]
    },
    {
      "cell_type": "markdown",
      "source": [
        "### 6.5.3. Adding More Patterns"
      ],
      "metadata": {
        "id": "U9EtPAKTe6fo"
      }
    },
    {
      "cell_type": "code",
      "source": [
        "speak_lemmas = [\"think\", \"say\"]\n",
        "text = data[0][2][0].replace( \"`\", \"'\")\n",
        "matcher = Matcher(nlp.vocab)\n",
        "pattern1 = [{'ORTH': \"'\"}, {'IS_ALPHA': True, \"OP\": \"+\"}, {'IS_PUNCT': True, \"OP\": \"*\"}, {'ORTH': \"'\"}, {\"POS\": \"VERB\", \"LEMMA\": {\"IN\": speak_lemmas}}, {\"POS\": \"PROPN\", \"OP\": \"+\"}, {'ORTH': \"'\"}, {'IS_ALPHA': True, \"OP\": \"+\"}, {'IS_PUNCT': True, \"OP\": \"*\"}, {'ORTH': \"'\"}]\n",
        "pattern2 = [{'ORTH': \"'\"}, {'IS_ALPHA': True, \"OP\": \"+\"}, {'IS_PUNCT': True, \"OP\": \"*\"}, {'ORTH': \"'\"}, {\"POS\": \"VERB\", \"LEMMA\": {\"IN\": speak_lemmas}}, {\"POS\": \"PROPN\", \"OP\": \"+\"}]\n",
        "pattern3 = [{\"POS\": \"PROPN\", \"OP\": \"+\"},{\"POS\": \"VERB\", \"LEMMA\": {\"IN\": speak_lemmas}}, {'ORTH': \"'\"}, {'IS_ALPHA': True, \"OP\": \"+\"}, {'IS_PUNCT': True, \"OP\": \"*\"}, {'ORTH': \"'\"}]\n",
        "matcher.add(\"PROPER_NOUNS\", [pattern1, pattern2, pattern3], greedy='LONGEST')\n",
        "for text in data[0][2]:\n",
        "    text = text.replace(\"`\", \"'\")\n",
        "    doc = nlp(text)\n",
        "    matches = matcher(doc)\n",
        "    matches.sort(key = lambda x: x[1])\n",
        "    print (len(matches))\n",
        "    for match in matches[:10]:\n",
        "        print (match, doc[match[1]:match[2]])"
      ],
      "metadata": {
        "colab": {
          "base_uri": "https://localhost:8080/"
        },
        "id": "olonzPQRckcF",
        "outputId": "256d464f-7b58-4867-b5c3-fd6eec595473"
      },
      "execution_count": 37,
      "outputs": [
        {
          "output_type": "stream",
          "name": "stdout",
          "text": [
            "1\n",
            "(3232560085755078826, 47, 67) 'and what is the use of a book,' thought Alice 'without pictures or conversation?'\n",
            "0\n",
            "0\n",
            "0\n",
            "0\n",
            "0\n",
            "1\n",
            "(3232560085755078826, 0, 6) 'Well!' thought Alice\n",
            "0\n",
            "0\n",
            "0\n",
            "0\n",
            "0\n",
            "0\n",
            "0\n",
            "1\n",
            "(3232560085755078826, 57, 68) 'which certainly was not here before,' said Alice\n",
            "0\n",
            "0\n"
          ]
        }
      ]
    },
    {
      "cell_type": "markdown",
      "source": [
        "# 7. Custom Components in spaCy"
      ],
      "metadata": {
        "id": "7qBJrvj2f46h"
      }
    },
    {
      "cell_type": "code",
      "source": [
        "import spacy"
      ],
      "metadata": {
        "id": "DIvJlmHgdHF2"
      },
      "execution_count": 38,
      "outputs": []
    },
    {
      "cell_type": "code",
      "source": [
        "doc = nlp(\"Britain is a place. Mary is a doctor.\")"
      ],
      "metadata": {
        "id": "nCa6Ih4uf72L"
      },
      "execution_count": 39,
      "outputs": []
    },
    {
      "cell_type": "code",
      "source": [
        "for ent in doc.ents:\n",
        "  print(ent.text, ent.label_)"
      ],
      "metadata": {
        "colab": {
          "base_uri": "https://localhost:8080/"
        },
        "id": "bya3vnDEgD2L",
        "outputId": "b4891e2e-493c-4278-8b10-d6ad4c7b6517"
      },
      "execution_count": 41,
      "outputs": [
        {
          "output_type": "stream",
          "name": "stdout",
          "text": [
            "Britain GPE\n",
            "Mary PERSON\n"
          ]
        }
      ]
    },
    {
      "cell_type": "code",
      "source": [
        "from spacy.language import Language"
      ],
      "metadata": {
        "id": "vcOljP_jgJwo"
      },
      "execution_count": 42,
      "outputs": []
    },
    {
      "cell_type": "code",
      "source": [
        "@Language.component(\"remove_gpe\")\n",
        "def remove_gpe(doc):\n",
        "  original_ents = list(doc.ents)\n",
        "  for ent in doc.ents:\n",
        "    if ent.label_ == \"GPE\":\n",
        "      original_ents.remove(ent)\n",
        "  doc.ents = original_ents\n",
        "  return(doc)"
      ],
      "metadata": {
        "id": "X-NybNkHgZcT"
      },
      "execution_count": 43,
      "outputs": []
    },
    {
      "cell_type": "code",
      "source": [
        "nlp.add_pipe(\"remove_gpe\")"
      ],
      "metadata": {
        "colab": {
          "base_uri": "https://localhost:8080/",
          "height": 104
        },
        "id": "Zk3kPsFMg9cD",
        "outputId": "64cc46ea-f44f-4059-e660-92e451beb482"
      },
      "execution_count": 44,
      "outputs": [
        {
          "output_type": "execute_result",
          "data": {
            "text/plain": [
              "<function __main__.remove_gpe(doc)>"
            ],
            "text/html": [
              "<div style=\"max-width:800px; border: 1px solid var(--colab-border-color);\"><style>\n",
              "      pre.function-repr-contents {\n",
              "        overflow-x: auto;\n",
              "        padding: 8px 12px;\n",
              "        max-height: 500px;\n",
              "      }\n",
              "\n",
              "      pre.function-repr-contents.function-repr-contents-collapsed {\n",
              "        cursor: pointer;\n",
              "        max-height: 100px;\n",
              "      }\n",
              "    </style>\n",
              "    <pre style=\"white-space: initial; background:\n",
              "         var(--colab-secondary-surface-color); padding: 8px 12px;\n",
              "         border-bottom: 1px solid var(--colab-border-color);\"><b>remove_gpe</b><br/>def remove_gpe(doc)</pre><pre class=\"function-repr-contents function-repr-contents-collapsed\" style=\"\"><a class=\"filepath\" style=\"display:none\" href=\"#\">/content/&lt;ipython-input-43-37bc3ecf9f74&gt;</a>&lt;no docstring&gt;</pre></div>"
            ]
          },
          "metadata": {},
          "execution_count": 44
        }
      ]
    },
    {
      "cell_type": "code",
      "source": [
        "nlp.analyze_pipes()"
      ],
      "metadata": {
        "colab": {
          "base_uri": "https://localhost:8080/"
        },
        "id": "udn8caI8hAHL",
        "outputId": "a8cf96dc-ba06-4891-a4d3-77c9c5afceed"
      },
      "execution_count": 45,
      "outputs": [
        {
          "output_type": "execute_result",
          "data": {
            "text/plain": [
              "{'summary': {'tok2vec': {'assigns': ['doc.tensor'],\n",
              "   'requires': [],\n",
              "   'scores': [],\n",
              "   'retokenizes': False},\n",
              "  'tagger': {'assigns': ['token.tag'],\n",
              "   'requires': [],\n",
              "   'scores': ['tag_acc'],\n",
              "   'retokenizes': False},\n",
              "  'parser': {'assigns': ['token.dep',\n",
              "    'token.head',\n",
              "    'token.is_sent_start',\n",
              "    'doc.sents'],\n",
              "   'requires': [],\n",
              "   'scores': ['dep_uas',\n",
              "    'dep_las',\n",
              "    'dep_las_per_type',\n",
              "    'sents_p',\n",
              "    'sents_r',\n",
              "    'sents_f'],\n",
              "   'retokenizes': False},\n",
              "  'attribute_ruler': {'assigns': [],\n",
              "   'requires': [],\n",
              "   'scores': [],\n",
              "   'retokenizes': False},\n",
              "  'lemmatizer': {'assigns': ['token.lemma'],\n",
              "   'requires': [],\n",
              "   'scores': ['lemma_acc'],\n",
              "   'retokenizes': False},\n",
              "  'ner': {'assigns': ['doc.ents', 'token.ent_iob', 'token.ent_type'],\n",
              "   'requires': [],\n",
              "   'scores': ['ents_f', 'ents_p', 'ents_r', 'ents_per_type'],\n",
              "   'retokenizes': False},\n",
              "  'remove_gpe': {'assigns': [],\n",
              "   'requires': [],\n",
              "   'scores': [],\n",
              "   'retokenizes': False}},\n",
              " 'problems': {'tok2vec': [],\n",
              "  'tagger': [],\n",
              "  'parser': [],\n",
              "  'attribute_ruler': [],\n",
              "  'lemmatizer': [],\n",
              "  'ner': [],\n",
              "  'remove_gpe': []},\n",
              " 'attrs': {'token.tag': {'assigns': ['tagger'], 'requires': []},\n",
              "  'token.lemma': {'assigns': ['lemmatizer'], 'requires': []},\n",
              "  'token.dep': {'assigns': ['parser'], 'requires': []},\n",
              "  'doc.ents': {'assigns': ['ner'], 'requires': []},\n",
              "  'doc.sents': {'assigns': ['parser'], 'requires': []},\n",
              "  'token.ent_iob': {'assigns': ['ner'], 'requires': []},\n",
              "  'doc.tensor': {'assigns': ['tok2vec'], 'requires': []},\n",
              "  'token.head': {'assigns': ['parser'], 'requires': []},\n",
              "  'token.is_sent_start': {'assigns': ['parser'], 'requires': []},\n",
              "  'token.ent_type': {'assigns': ['ner'], 'requires': []}}}"
            ]
          },
          "metadata": {},
          "execution_count": 45
        }
      ]
    },
    {
      "cell_type": "code",
      "source": [
        "doc = nlp(\"Britain is a place. Mary is a doctor.\")\n",
        "for ent in doc.ents:\n",
        "  print(ent.text, ent.label_)"
      ],
      "metadata": {
        "colab": {
          "base_uri": "https://localhost:8080/"
        },
        "id": "87X93fTPhCFh",
        "outputId": "627d253f-d651-48f4-f151-f4c427e11748"
      },
      "execution_count": 46,
      "outputs": [
        {
          "output_type": "stream",
          "name": "stdout",
          "text": [
            "Mary PERSON\n"
          ]
        }
      ]
    },
    {
      "cell_type": "code",
      "source": [
        "nlp.to_disk(\"/content/new_en_core_web_sm\")"
      ],
      "metadata": {
        "id": "6N-YLAughMXj"
      },
      "execution_count": 49,
      "outputs": []
    },
    {
      "cell_type": "code",
      "source": [],
      "metadata": {
        "id": "ECy65NbhhiDO"
      },
      "execution_count": null,
      "outputs": []
    }
  ]
}